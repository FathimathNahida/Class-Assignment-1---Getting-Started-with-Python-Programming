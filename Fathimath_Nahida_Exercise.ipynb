{
  "nbformat": 4,
  "nbformat_minor": 0,
  "metadata": {
    "colab": {
      "name": "Fathimath Nahida Exercise",
      "provenance": []
    },
    "kernelspec": {
      "name": "python3",
      "display_name": "Python 3"
    }
  },
  "cells": [
    {
      "cell_type": "markdown",
      "metadata": {
        "id": "DpZCnKLjCY6-"
      },
      "source": [
        "1.Python program to get the largest from a list"
      ]
    },
    {
      "cell_type": "code",
      "metadata": {
        "id": "iVk5RmszC-py",
        "outputId": "67625693-89fa-4193-d6dc-2a7d97831b7e",
        "colab": {
          "base_uri": "https://localhost:8080/",
          "height": 34
        }
      },
      "source": [
        "list1=[10,6,7,8,56]\n",
        "print(\"largest element is:\",max(list1))"
      ],
      "execution_count": null,
      "outputs": [
        {
          "output_type": "stream",
          "text": [
            "largest element is: 56\n"
          ],
          "name": "stdout"
        }
      ]
    },
    {
      "cell_type": "markdown",
      "metadata": {
        "id": "0yH_z_KxD-S0"
      },
      "source": [
        "2.python code to search element in a list"
      ]
    },
    {
      "cell_type": "code",
      "metadata": {
        "id": "ZmoAD8I2EGAK",
        "outputId": "a4f9f226-9ab8-4fa6-f35d-77e622edbbee",
        "colab": {
          "base_uri": "https://localhost:8080/",
          "height": 67
        }
      },
      "source": [
        "list=[10,3,4,5,9]\n",
        "print(list)\n",
        "num=int(input(\"Enter element to be search:\"))\n",
        "for i in list:\n",
        " if i==num:\n",
        "   print(\"element found\")\n",
        "   break\n",
        "else:\n",
        "    print(\"not found\")"
      ],
      "execution_count": null,
      "outputs": [
        {
          "output_type": "stream",
          "text": [
            "[10, 3, 4, 5, 9]\n",
            "Enter element to be search:5\n",
            "element found\n"
          ],
          "name": "stdout"
        }
      ]
    },
    {
      "cell_type": "markdown",
      "metadata": {
        "id": "u3GIX822SrLW"
      },
      "source": [
        "3.python program to sum all the element in a list"
      ]
    },
    {
      "cell_type": "code",
      "metadata": {
        "id": "QClbT8vfVqQj",
        "outputId": "fb4d76e7-783d-4c70-f2c6-f5c326d6c04c",
        "colab": {
          "base_uri": "https://localhost:8080/",
          "height": 34
        }
      },
      "source": [
        "List=[2,6,7,8]\n",
        "sum=0\n",
        "for i in List:\n",
        "  sum=sum+i\n",
        "print(\"sum of all items in List:\",sum)"
      ],
      "execution_count": null,
      "outputs": [
        {
          "output_type": "stream",
          "text": [
            "sum of all items in List: 23\n"
          ],
          "name": "stdout"
        }
      ]
    },
    {
      "cell_type": "markdown",
      "metadata": {
        "id": "beum5h4MXMLl"
      },
      "source": [
        "4.python program to remove duplicates in list"
      ]
    },
    {
      "cell_type": "code",
      "metadata": {
        "id": "6bMWp_dUXTLf",
        "outputId": "218a3274-a6f9-4b12-bd32-f17dc24ae954",
        "colab": {
          "base_uri": "https://localhost:8080/",
          "height": 106
        }
      },
      "source": [
        "List1=[10,20,10,20,30,40]\n",
        "List2=[]\n",
        "for n in List1:\n",
        "            if n not in List2:\n",
        "                      List2.append(n)\n",
        "print(\"orginal list\")\n",
        "print(\"List1:\",List1)\n",
        "print(\"List after removing duplicate elements\")\n",
        "print(\"List2:\",List2)"
      ],
      "execution_count": null,
      "outputs": [
        {
          "output_type": "stream",
          "text": [
            "orginal list\n",
            "List1: [10, 20, 10, 20, 30, 40]\n",
            "List after removing duplicate elements\n",
            "List2: [10, 20, 30, 40]\n"
          ],
          "name": "stdout"
        }
      ]
    },
    {
      "cell_type": "markdown",
      "metadata": {
        "id": "ZOxmi3_ovy0p"
      },
      "source": [
        "5.python Function to take two list and returns true if they have atleast one common member"
      ]
    },
    {
      "cell_type": "code",
      "metadata": {
        "id": "hLIyHU41wB70",
        "outputId": "b88d0f04-1004-45b6-d981-09eba7d941ca",
        "colab": {
          "base_uri": "https://localhost:8080/",
          "height": 50
        }
      },
      "source": [
        "def common_data(list1,list2):\n",
        "  result=False\n",
        "  for A in list1:\n",
        "    for B in list2:\n",
        "      if A==B:\n",
        "        result=True\n",
        "        return result\n",
        "print(common_data([1,2,3,4,5],[5,6,7,8,9]))\n",
        "print(common_data([1,2,3,4,5],[6,7,8,9]))\n"
      ],
      "execution_count": null,
      "outputs": [
        {
          "output_type": "stream",
          "text": [
            "True\n",
            "None\n"
          ],
          "name": "stdout"
        }
      ]
    },
    {
      "cell_type": "markdown",
      "metadata": {
        "id": "dtFmdtmjxxky"
      },
      "source": [
        "6.python program to append a list to the second list"
      ]
    },
    {
      "cell_type": "code",
      "metadata": {
        "id": "7P4JF0r_yDYZ",
        "outputId": "a08d9e8c-923d-4fe2-eee4-acf47d75563e",
        "colab": {
          "base_uri": "https://localhost:8080/",
          "height": 34
        }
      },
      "source": [
        "list1=[1,6,7,8]\n",
        "list2=['jhon','rahul','mohan']\n",
        "final_list=list1+list2\n",
        "print(final_list)"
      ],
      "execution_count": null,
      "outputs": [
        {
          "output_type": "stream",
          "text": [
            "[1, 6, 7, 8, 'jhon', 'rahul', 'mohan']\n"
          ],
          "name": "stdout"
        }
      ]
    },
    {
      "cell_type": "markdown",
      "metadata": {
        "id": "P8eTEijEyj27"
      },
      "source": [
        "7.python program to check given number is composite or not?"
      ]
    },
    {
      "cell_type": "code",
      "metadata": {
        "id": "9iuYsPSgyuXJ",
        "outputId": "57d29ba9-e5dd-4c8a-8650-cd98efac677d",
        "colab": {
          "base_uri": "https://localhost:8080/",
          "height": 118
        }
      },
      "source": [
        "n=int(input(\"Enter any number:\"))\n",
        "factor=0\n",
        "for i in range(1,n):\n",
        "  if n%i==0:\n",
        "    factor=i\n",
        "  if factor>1:\n",
        "    print(\"The number is composite number!\")\n",
        "  elif n==1:\n",
        "    print(\"The number 1 is neither prime nor composite!\")\n",
        "  else:\n",
        "    print(\"This is not a composite!\")\n",
        "\n"
      ],
      "execution_count": null,
      "outputs": [
        {
          "output_type": "stream",
          "text": [
            "Enter any number:6\n",
            "This is not a composite!\n",
            "The number is composite number!\n",
            "The number is composite number!\n",
            "The number is composite number!\n",
            "The number is composite number!\n"
          ],
          "name": "stdout"
        }
      ]
    },
    {
      "cell_type": "markdown",
      "metadata": {
        "id": "LRaE_DY601UJ"
      },
      "source": [
        "8.python program to add a two matrices using list"
      ]
    },
    {
      "cell_type": "code",
      "metadata": {
        "id": "fOkdoZbM1DaG",
        "outputId": "98dd9f19-e4eb-4ce2-99ef-7852456d856d",
        "colab": {
          "base_uri": "https://localhost:8080/",
          "height": 34
        }
      },
      "source": [
        "X=[[2,3,5],\n",
        "   [5,6,7],\n",
        "   [2,4,5]]\n",
        "\n",
        "Y=[[2,5,6],\n",
        "   [3,6,7],\n",
        "   [3,5,7]]\n",
        "\n",
        "result=[[0,0,0],\n",
        "        [0,0,0],\n",
        "        [0,0,0]]\n",
        "\n",
        "for i in range(len(X)):\n",
        "  for j in range(len(X[0])):\n",
        "      result[i][j]= X[i][j]+ Y[i][j]\n",
        "print(result)\n",
        "\n"
      ],
      "execution_count": null,
      "outputs": [
        {
          "output_type": "stream",
          "text": [
            "[[4, 8, 11], [8, 12, 14], [5, 9, 12]]\n"
          ],
          "name": "stdout"
        }
      ]
    },
    {
      "cell_type": "markdown",
      "metadata": {
        "id": "BfmJasL23u4L"
      },
      "source": [
        "9.python program to check if string is palindrome or not"
      ]
    },
    {
      "cell_type": "code",
      "metadata": {
        "id": "AL4ON8UU360H",
        "outputId": "fbcc5b76-1092-4a23-92f0-3b5cb7e018ce",
        "colab": {
          "base_uri": "https://localhost:8080/",
          "height": 50
        }
      },
      "source": [
        "my_string=input(\"Enter string:\")\n",
        "if(my_string==my_string[::-1]):\n",
        "  print(\"string is palindrome\")\n",
        "else:\n",
        "  print(\"string is not palindrome\")"
      ],
      "execution_count": null,
      "outputs": [
        {
          "output_type": "stream",
          "text": [
            "Enter string:madam\n",
            "string is palindrome\n"
          ],
          "name": "stdout"
        }
      ]
    },
    {
      "cell_type": "markdown",
      "metadata": {
        "id": "Dxg8umuO506A"
      },
      "source": [
        "10.python program to print multiplication table of a number"
      ]
    },
    {
      "cell_type": "code",
      "metadata": {
        "id": "SG7qkhXN6AU3",
        "outputId": "eac266b3-6222-46af-a926-732f56a7b534",
        "colab": {
          "base_uri": "https://localhost:8080/",
          "height": 185
        }
      },
      "source": [
        "num=8\n",
        "for i in range(1,11):\n",
        "  print(num,'X',i,'=',(num*i))"
      ],
      "execution_count": null,
      "outputs": [
        {
          "output_type": "stream",
          "text": [
            "8 X 1 = 8\n",
            "8 X 2 = 16\n",
            "8 X 3 = 24\n",
            "8 X 4 = 32\n",
            "8 X 5 = 40\n",
            "8 X 6 = 48\n",
            "8 X 7 = 56\n",
            "8 X 8 = 64\n",
            "8 X 9 = 72\n",
            "8 X 10 = 80\n"
          ],
          "name": "stdout"
        }
      ]
    }
  ]
}