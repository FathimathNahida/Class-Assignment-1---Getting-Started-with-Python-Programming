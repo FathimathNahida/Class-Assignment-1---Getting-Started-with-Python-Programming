{
  "nbformat": 4,
  "nbformat_minor": 0,
  "metadata": {
    "colab": {
      "name": "Tutorial.ipynb",
      "provenance": []
    },
    "kernelspec": {
      "name": "python3",
      "display_name": "Python 3"
    }
  },
  "cells": [
    {
      "cell_type": "markdown",
      "metadata": {
        "id": "i0dNqj9tI4m5",
        "colab_type": "text"
      },
      "source": [
        "Check wheather two strings are eqaul or not"
      ]
    },
    {
      "cell_type": "code",
      "metadata": {
        "id": "pCslQGQuI9HA",
        "colab_type": "code",
        "colab": {
          "base_uri": "https://localhost:8080/",
          "height": 69
        },
        "outputId": "165b04f6-8e42-43bb-ab85-7aae4ded86c9"
      },
      "source": [
        "string1=input(\"Enter the first string:\")\n",
        "string2=input(\"Enter the second string:\")\n",
        "if(string1==string2):\n",
        "  print(\"strings are eqaul\")\n",
        "else:\n",
        "    print(\"strings are not eqaul\")"
      ],
      "execution_count": null,
      "outputs": [
        {
          "output_type": "stream",
          "text": [
            "Enter the first string:Nahida\n",
            "Enter the second string:Nahida\n",
            "strings are eqaul\n"
          ],
          "name": "stdout"
        }
      ]
    },
    {
      "cell_type": "markdown",
      "metadata": {
        "id": "U7T3-s7ZJeV-",
        "colab_type": "text"
      },
      "source": [
        "To add two numbers"
      ]
    },
    {
      "cell_type": "code",
      "metadata": {
        "id": "7Ja9-1QBJieE",
        "colab_type": "code",
        "colab": {
          "base_uri": "https://localhost:8080/",
          "height": 69
        },
        "outputId": "884599ba-0b00-4a09-e253-64c82b9ce313"
      },
      "source": [
        "num1=int(input(\"Enter the first number:\"))\n",
        "num2=int(input(\"Enter the second number:\"))\n",
        "sum=num1+num2\n",
        "print(\"sum of two number is:\",sum)"
      ],
      "execution_count": null,
      "outputs": [
        {
          "output_type": "stream",
          "text": [
            "Enter the first number:8\n",
            "Enter the second number:9\n",
            "sum of two number is: 17\n"
          ],
          "name": "stdout"
        }
      ]
    },
    {
      "cell_type": "markdown",
      "metadata": {
        "id": "WeN20NvqJ-a-",
        "colab_type": "text"
      },
      "source": [
        " Python programme to find sqaure roots of number"
      ]
    },
    {
      "cell_type": "code",
      "metadata": {
        "id": "QQ0_Zb6AKEKn",
        "colab_type": "code",
        "colab": {
          "base_uri": "https://localhost:8080/",
          "height": 51
        },
        "outputId": "116e6f33-f9a1-4514-fefb-273bcc475142"
      },
      "source": [
        "a=int(input(\"Enter any number:\"))\n",
        "sqrt=a**.5\n",
        "print(\"square root:\",sqrt)"
      ],
      "execution_count": null,
      "outputs": [
        {
          "output_type": "stream",
          "text": [
            "Enter any number:9\n",
            "square root: 3.0\n"
          ],
          "name": "stdout"
        }
      ]
    },
    {
      "cell_type": "markdown",
      "metadata": {
        "id": "EUs2Q1pMNX2H",
        "colab_type": "text"
      },
      "source": [
        " Python code to calculate area of triangle"
      ]
    },
    {
      "cell_type": "code",
      "metadata": {
        "id": "AQa-rdH4PVv9",
        "colab_type": "code",
        "colab": {
          "base_uri": "https://localhost:8080/",
          "height": 69
        },
        "outputId": "588ee4e2-8c19-43ff-8d9f-fb926b5cd124"
      },
      "source": [
        "a=int(input(\"Enter the base:\"))\n",
        "b=int(input(\"Enter the height:\"))\n",
        "area=a*b\n",
        "print(\"area is\",area,\"sqaure units\")"
      ],
      "execution_count": null,
      "outputs": [
        {
          "output_type": "stream",
          "text": [
            "Enter the base:4\n",
            "Enter the height:7\n",
            "area is 28 sqaure units\n"
          ],
          "name": "stdout"
        }
      ]
    },
    {
      "cell_type": "markdown",
      "metadata": {
        "id": "qlrfUXTPPtH0",
        "colab_type": "text"
      },
      "source": [
        " Python code to convert celsius to feherneit"
      ]
    },
    {
      "cell_type": "code",
      "metadata": {
        "id": "RR1KyYsZP2qt",
        "colab_type": "code",
        "colab": {
          "base_uri": "https://localhost:8080/",
          "height": 71
        },
        "outputId": "b73d2b8b-a1e9-4951-f641-e6466375e15b"
      },
      "source": [
        "celsius=float(input(\"Enter a temperature in celsius\"))\n",
        "fahrenheit=(celsius*9/5)+32\n",
        "print(\"{0}:celsius is {1}:fahrenheit\".format(celsius,fahrenheit))"
      ],
      "execution_count": null,
      "outputs": [
        {
          "output_type": "stream",
          "text": [
            "Enter a temperature in celsius100\n",
            "100.0:celsius is 212.0:fahrenheit\n"
          ],
          "name": "stdout"
        }
      ]
    },
    {
      "cell_type": "markdown",
      "metadata": {
        "id": "ZECiWY1IQ5E6",
        "colab_type": "text"
      },
      "source": [
        "Find largest among three numbers"
      ]
    },
    {
      "cell_type": "code",
      "metadata": {
        "id": "LMDmilZuQ_KK",
        "colab_type": "code",
        "colab": {
          "base_uri": "https://localhost:8080/",
          "height": 86
        },
        "outputId": "4a01cf6b-45c9-4ca3-c7d6-293cf6ef7ff2"
      },
      "source": [
        "a=int(input(\"Enter the first number:\"))\n",
        "b=int(input(\"Enter the second number:\"))\n",
        "c=int(input(\"Enter the third number:\"))\n",
        "if(a>b and a>c):\n",
        "  Print(a,\"largest\")\n",
        "elif (a>b and a<c):\n",
        "  print(c,\"greater\")\n",
        "elif (b>c):\n",
        "  print(b,\"greater\")\n",
        "else:\n",
        "   print(c,\"greater\")"
      ],
      "execution_count": null,
      "outputs": [
        {
          "output_type": "stream",
          "text": [
            "Enter the first number:6\n",
            "Enter the second number:7\n",
            "Enter the third number:3\n",
            "7 greater\n"
          ],
          "name": "stdout"
        }
      ]
    },
    {
      "cell_type": "markdown",
      "metadata": {
        "id": "dBbvYpKAS2kU",
        "colab_type": "text"
      },
      "source": [
        "Python code to check whether the number positive,negative,zero"
      ]
    },
    {
      "cell_type": "code",
      "metadata": {
        "id": "1yYeAcTmS-lb",
        "colab_type": "code",
        "colab": {
          "base_uri": "https://localhost:8080/",
          "height": 51
        },
        "outputId": "24868712-85c2-4ea6-a5ca-2b5c64bc0f67"
      },
      "source": [
        "a=int(input(\"enter a number:\"))\n",
        "if(a>0):\n",
        "  print(\"number is positive\")\n",
        "elif (a==0):\n",
        " print(\"number is zero\")\n",
        "else:\n",
        "  print(\"number is negative\")"
      ],
      "execution_count": 36,
      "outputs": [
        {
          "output_type": "stream",
          "text": [
            "enter a number:8\n",
            "number is positive\n"
          ],
          "name": "stdout"
        }
      ]
    }
  ]
}