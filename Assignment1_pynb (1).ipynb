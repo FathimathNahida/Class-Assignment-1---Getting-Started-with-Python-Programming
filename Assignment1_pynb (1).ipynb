{
  "nbformat": 4,
  "nbformat_minor": 0,
  "metadata": {
    "colab": {
      "name": "Assignment1.pynb",
      "provenance": [],
      "collapsed_sections": []
    },
    "kernelspec": {
      "display_name": "Python 3",
      "name": "python3"
    }
  },
  "cells": [
    {
      "cell_type": "markdown",
      "metadata": {
        "id": "oT15J9FOoGbs",
        "colab_type": "text"
      },
      "source": [
        "Display name,address,telephone number"
      ]
    },
    {
      "cell_type": "code",
      "metadata": {
        "id": "RaTTNkn7oM_A",
        "colab_type": "code",
        "colab": {
          "base_uri": "https://localhost:8080/",
          "height": 69
        },
        "outputId": "bf436b90-0e4e-440f-f3df-b40584ee0131"
      },
      "source": [
        "name=(\"Fathimath Nahida\")\n",
        "address=(\"iti road,naimarmoola,ksd\")\n",
        "number=(\"9072870550\")\n",
        "print(name)\n",
        "print(address)\n",
        "print(number)"
      ],
      "execution_count": null,
      "outputs": [
        {
          "output_type": "stream",
          "text": [
            "Fathimath Nahida\n",
            "iti road,naimarmoola,ksd\n",
            "9072870550\n"
          ],
          "name": "stdout"
        }
      ]
    },
    {
      "cell_type": "markdown",
      "metadata": {
        "id": "oZHPXTbKptRX",
        "colab_type": "text"
      },
      "source": [
        ""
      ]
    },
    {
      "cell_type": "markdown",
      "metadata": {
        "id": "V982-A5_puud",
        "colab_type": "text"
      },
      "source": [
        " Evalauting your name"
      ]
    },
    {
      "cell_type": "code",
      "metadata": {
        "id": "JkZjKJV9qACD",
        "colab_type": "code",
        "colab": {
          "base_uri": "https://localhost:8080/",
          "height": 34
        },
        "outputId": "ccd2125e-da31-458e-eda5-4cd8b8b56d7c"
      },
      "source": [
        "name=\"Fathimath Nahida\"\n",
        "print(\"your name is:\",name)"
      ],
      "execution_count": null,
      "outputs": [
        {
          "output_type": "stream",
          "text": [
            "your name is: Fathimath Nahida\n"
          ],
          "name": "stdout"
        }
      ]
    },
    {
      "cell_type": "markdown",
      "metadata": {
        "id": "tmO32J2GqSuj",
        "colab_type": "text"
      },
      "source": [
        " Area of rectangle"
      ]
    },
    {
      "cell_type": "code",
      "metadata": {
        "id": "mRPS4vrYqoJS",
        "colab_type": "code",
        "colab": {
          "base_uri": "https://localhost:8080/",
          "height": 69
        },
        "outputId": "cc6da528-874f-495a-e6d6-8a2166350955"
      },
      "source": [
        "width=int(input(\"Enter the width\"))\n",
        "height=int(input(\"Enter the height\"))\n",
        "area=width*height\n",
        "print(\"The area is:\",area,\"sqaure units\")"
      ],
      "execution_count": null,
      "outputs": [
        {
          "output_type": "stream",
          "text": [
            "Enter the width33\n",
            "Enter the height22\n",
            "The area is: 726 sqaure units\n"
          ],
          "name": "stdout"
        }
      ]
    },
    {
      "cell_type": "markdown",
      "metadata": {
        "id": "H3DJ8P2Wrkua",
        "colab_type": "text"
      },
      "source": [
        " Area of Triangle"
      ]
    },
    {
      "cell_type": "code",
      "metadata": {
        "id": "0VnZ_8zrrxQj",
        "colab_type": "code",
        "colab": {
          "base_uri": "https://localhost:8080/",
          "height": 69
        },
        "outputId": "a2307b53-da08-43b0-a702-c5f531985130"
      },
      "source": [
        "base=int(input(\"Enter the base:\"))\n",
        "height=int(input(\"Enter the height:\"))\n",
        "area=0.5*base*height\n",
        "print(\"The area is:\",area,\"sq units\")"
      ],
      "execution_count": null,
      "outputs": [
        {
          "output_type": "stream",
          "text": [
            "Enter the base:3\n",
            "Enter the height:4\n",
            "The area is: 6.0 sq units\n"
          ],
          "name": "stdout"
        }
      ]
    },
    {
      "cell_type": "markdown",
      "metadata": {
        "id": "qWcx5qyCsXoL",
        "colab_type": "text"
      },
      "source": [
        " Area of circle"
      ]
    },
    {
      "cell_type": "code",
      "metadata": {
        "id": "L70CxXiHse1v",
        "colab_type": "code",
        "colab": {
          "base_uri": "https://localhost:8080/",
          "height": 71
        },
        "outputId": "5693c624-8df2-46c6-948d-c883cdaddd0a"
      },
      "source": [
        "radius=int(input(\"Enter the radius:\"))\n",
        "area=3.14*radius**2\n",
        "print(\"The area of circle is:\",area,\"sq units\")"
      ],
      "execution_count": null,
      "outputs": [
        {
          "output_type": "stream",
          "text": [
            "Enter the radius:4\n",
            "The area of circle is: 50.24 sq units\n"
          ],
          "name": "stdout"
        }
      ]
    },
    {
      "cell_type": "markdown",
      "metadata": {
        "id": "A3a9fus6tLzi",
        "colab_type": "text"
      },
      "source": [
        " Users name and age"
      ]
    },
    {
      "cell_type": "code",
      "metadata": {
        "id": "2u1DjolhtVzn",
        "colab_type": "code",
        "colab": {
          "base_uri": "https://localhost:8080/",
          "height": 89
        },
        "outputId": "dff46998-67c7-4149-eec9-ac4a0254bd19"
      },
      "source": [
        "name=input(\"Enter your name:\")\n",
        "name=name.upper()\n",
        "age=int(input(\"Enter your age:\"))\n",
        "int(age)\n",
        "print(\"Enter your name is:\",name,\"your age:\",age)"
      ],
      "execution_count": null,
      "outputs": [
        {
          "output_type": "stream",
          "text": [
            "Enter your name:Nahida\n",
            "Enter your age:19\n",
            "Enter your name is: NAHIDA your age: 19\n"
          ],
          "name": "stdout"
        }
      ]
    },
    {
      "cell_type": "markdown",
      "metadata": {
        "id": "fQGZL0PVuBBF",
        "colab_type": "text"
      },
      "source": [
        " Entering addition number"
      ]
    },
    {
      "cell_type": "code",
      "metadata": {
        "id": "O6PhlR_IuM6c",
        "colab_type": "code",
        "colab": {}
      },
      "source": [
        "text=input(\"Enter a number:\")\n",
        "try:\n",
        " text=int(text)\n",
        " i=text+1\n",
        "print(\"the getting number\",i,\"on adding 1 to text\",text)\n",
        "expect:\n",
        "print(\"you have entered text:\")"
      ],
      "execution_count": null,
      "outputs": []
    },
    {
      "cell_type": "markdown",
      "metadata": {
        "id": "a5cy8362wRAY",
        "colab_type": "text"
      },
      "source": [
        "Enter your first name"
      ]
    },
    {
      "cell_type": "code",
      "metadata": {
        "id": "t-hrjm3IwSlv",
        "colab_type": "code",
        "colab": {
          "base_uri": "https://localhost:8080/",
          "height": 51
        },
        "outputId": "5d458f89-202a-4cf7-8a9a-f63f5ef76d2e"
      },
      "source": [
        "text=(input(\"Enter your first name:\"))\n",
        "if text==(\"Nahida\"):\n",
        " print(\"Hello Nahida!\")\n",
        "else:\n",
        "  print(\"Not users first name\")"
      ],
      "execution_count": null,
      "outputs": [
        {
          "output_type": "stream",
          "text": [
            "Enter your first name:Nahida\n",
            "Hello Nahida!\n"
          ],
          "name": "stdout"
        }
      ]
    }
  ]
}